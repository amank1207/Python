{
 "cells": [
  {
   "cell_type": "markdown",
   "metadata": {},
   "source": [
    "# Task 1:"
   ]
  },
  {
   "cell_type": "markdown",
   "metadata": {},
   "source": [
    "1.\n",
    "Write a function to compute 5/0 and use try/except to catch the exceptions."
   ]
  },
  {
   "cell_type": "code",
   "execution_count": 1,
   "metadata": {},
   "outputs": [
    {
     "name": "stdout",
     "output_type": "stream",
     "text": [
      "The mentioned arithmetic operation cannot be executed, as the denominator should never be zero.\n"
     ]
    }
   ],
   "source": [
    "def calculate():\n",
    "    try:\n",
    "        5/0\n",
    "    except:\n",
    "        print(\"The mentioned arithmetic operation cannot be executed, as the denominator should never be zero.\")\n",
    "\n",
    "calculate()"
   ]
  },
  {
   "cell_type": "markdown",
   "metadata": {},
   "source": [
    "2. Implement a Python program to generate all sentences where subject is in [\"Americans\", \"Indians\"] and verb is in [\"Play\", \"watch\"] and the object is in [\"Baseball\",\"cricket\"].\n",
    "\n",
    "Hint: Subject,Verb and Object should be declared in the program as shown below.\n",
    "\n",
    "subjects=[\"Americans \",\"Indians\"] verbs=[\"play\",\"watch\"] objects=[\"Baseball\",\"Cricket\"]"
   ]
  },
  {
   "cell_type": "code",
   "execution_count": 2,
   "metadata": {},
   "outputs": [
    {
     "name": "stdout",
     "output_type": "stream",
     "text": [
      "Enter the list of subjects : \n",
      "Americans,Indians,Australians\n",
      "Enter the list of verbs : \n",
      "play,watch\n",
      "Enter the list of objects : \n",
      "Baseball,Cricket,Hockey\n",
      "\n",
      "\n",
      "Sentance generation using subjects, verbs & objects inputs are :\n",
      "Americans play Baseball.\n",
      "Americans play Cricket.\n",
      "Americans play Hockey.\n",
      "Americans watch Baseball.\n",
      "Americans watch Cricket.\n",
      "Americans watch Hockey.\n",
      "Indians play Baseball.\n",
      "Indians play Cricket.\n",
      "Indians play Hockey.\n",
      "Indians watch Baseball.\n",
      "Indians watch Cricket.\n",
      "Indians watch Hockey.\n",
      "Australians play Baseball.\n",
      "Australians play Cricket.\n",
      "Australians play Hockey.\n",
      "Australians watch Baseball.\n",
      "Australians watch Cricket.\n",
      "Australians watch Hockey.\n"
     ]
    }
   ],
   "source": [
    "def genSentance(subjects,verbs,objects):\n",
    "    for i in subjects:\n",
    "        for j in verbs:\n",
    "            for k in objects:\n",
    "                print(i+\" \"+j+\" \"+k+\".\")\n",
    "            \n",
    "print(\"Enter the list of subjects : \")\n",
    "subjects1=list(input().split(','))\n",
    "print(\"Enter the list of verbs : \")\n",
    "verbs1=list(input().split(','))\n",
    "print(\"Enter the list of objects : \")\n",
    "objects1=list(input().split(','))\n",
    "print(\"\\n\")\n",
    "print(\"Sentance generation using subjects, verbs & objects inputs are :\")\n",
    "genSentance(subjects1,verbs1,objects1)"
   ]
  },
  {
   "cell_type": "markdown",
   "metadata": {},
   "source": [
    "# Task 2:"
   ]
  },
  {
   "cell_type": "markdown",
   "metadata": {},
   "source": [
    "1.\n",
    "Write a function so that the columns of the output matrix are powers of the input vector.\n",
    "\n",
    "The order of the powers is determined by the increasing boolean argument. Specifically, when\n",
    "increasing is False, the i-th output column is the input vector raised element-wise to the power\n",
    "of N - i - 1."
   ]
  },
  {
   "cell_type": "code",
   "execution_count": 4,
   "metadata": {},
   "outputs": [
    {
     "name": "stdout",
     "output_type": "stream",
     "text": [
      "Input Matrix :[[2, 3, 4], [3, 4, 5], [5, 6, 7]]\n",
      "Output Matrix :[[1, 3, 16], [1, 4, 25], [1, 6, 49]]\n"
     ]
    }
   ],
   "source": [
    "a=[[2,3,4],[3,4,5],[5,6,7]]\n",
    "print(\"Input Matrix :\"+str(a))\n",
    "i=len(a)\n",
    "j=len(a[0])\n",
    "c=[]\n",
    "for l in range(i):\n",
    "    b=[]\n",
    "    for m in range(j):\n",
    "        b.append((a[l][m])**m)\n",
    "    c.append(b)\n",
    "print(\"Output Matrix :\"+str(c))"
   ]
  }
 ],
 "metadata": {
  "kernelspec": {
   "display_name": "Python 3",
   "language": "python",
   "name": "python3"
  },
  "language_info": {
   "codemirror_mode": {
    "name": "ipython",
    "version": 3
   },
   "file_extension": ".py",
   "mimetype": "text/x-python",
   "name": "python",
   "nbconvert_exporter": "python",
   "pygments_lexer": "ipython3",
   "version": "3.7.6"
  }
 },
 "nbformat": 4,
 "nbformat_minor": 4
}
